{
 "cells": [
  {
   "cell_type": "markdown",
   "metadata": {},
   "source": [
    "# Part I. ETL Pipeline for Pre-Processing the Files"
   ]
  },
  {
   "cell_type": "markdown",
   "metadata": {},
   "source": [
    "## PLEASE RUN THE FOLLOWING CODE FOR PRE-PROCESSING THE FILES"
   ]
  },
  {
   "cell_type": "markdown",
   "metadata": {},
   "source": [
    "#### Import Python packages "
   ]
  },
  {
   "cell_type": "code",
   "execution_count": 1,
   "metadata": {
    "collapsed": true
   },
   "outputs": [],
   "source": [
    "# Import Python packages \n",
    "import pandas as pd\n",
    "import cassandra\n",
    "import re\n",
    "import os\n",
    "import glob\n",
    "import numpy as np\n",
    "import json\n",
    "import csv"
   ]
  },
  {
   "cell_type": "markdown",
   "metadata": {},
   "source": [
    "#### Creating list of filepaths to process original event csv data files"
   ]
  },
  {
   "cell_type": "code",
   "execution_count": 4,
   "metadata": {
    "collapsed": false
   },
   "outputs": [
    {
     "name": "stdout",
     "output_type": "stream",
     "text": [
      "C:\\OnlineSchool\\Udacity\\DataEngineer\\Project2\n"
     ]
    }
   ],
   "source": [
    "# checking your current working directory\n",
    "print(os.getcwd())\n",
    "\n",
    "# Get your current folder and subfolder event data\n",
    "filepath = os.getcwd() + '/event_data'\n",
    "\n",
    "# Create a for loop to create a list of files and collect each filepath\n",
    "for root, dirs, files in os.walk(filepath):\n",
    "    \n",
    "# join the file path and roots with the subdirectories using glob\n",
    "    file_path_list = glob.glob(os.path.join(root,'*'))\n",
    "    #print(file_path_list)"
   ]
  },
  {
   "cell_type": "markdown",
   "metadata": {},
   "source": [
    "#### Processing the files to create the data file csv that will be used for Apache Casssandra tables"
   ]
  },
  {
   "cell_type": "code",
   "execution_count": 5,
   "metadata": {
    "collapsed": true
   },
   "outputs": [],
   "source": [
    "# initiating an empty list of rows that will be generated from each file\n",
    "full_data_rows_list = [] \n",
    "    \n",
    "# for every filepath in the file path list \n",
    "for f in file_path_list:\n",
    "\n",
    "# reading csv file \n",
    "    with open(f, 'r', encoding = 'utf8', newline='') as csvfile: \n",
    "        # creating a csv reader object \n",
    "        csvreader = csv.reader(csvfile) \n",
    "        next(csvreader)\n",
    "        \n",
    " # extracting each data row one by one and append it        \n",
    "        for line in csvreader:\n",
    "            #print(line)\n",
    "            full_data_rows_list.append(line) \n",
    "            \n",
    "# uncomment the code below if you would like to get total number of rows \n",
    "#print(len(full_data_rows_list))\n",
    "# uncomment the code below if you would like to check to see what the list of event data rows will look like\n",
    "#print(full_data_rows_list)\n",
    "\n",
    "# creating a smaller event data csv file called event_datafile_full csv that will be used to insert data into the \\\n",
    "# Apache Cassandra tables\n",
    "csv.register_dialect('myDialect', quoting=csv.QUOTE_ALL, skipinitialspace=True)\n",
    "\n",
    "with open('event_datafile_new.csv', 'w', encoding = 'utf8', newline='') as f:\n",
    "    writer = csv.writer(f, dialect='myDialect')\n",
    "    writer.writerow(['artist','firstName','gender','itemInSession','lastName','length',\\\n",
    "                'level','location','sessionId','song','userId'])\n",
    "    for row in full_data_rows_list:\n",
    "        if (row[0] == ''):\n",
    "            continue\n",
    "        writer.writerow((row[0], row[2], row[3], row[4], row[5], row[6], row[7], row[8], row[12], row[13], row[16]))\n"
   ]
  },
  {
   "cell_type": "code",
   "execution_count": 6,
   "metadata": {
    "collapsed": false
   },
   "outputs": [
    {
     "name": "stdout",
     "output_type": "stream",
     "text": [
      "6821\n"
     ]
    }
   ],
   "source": [
    "# check the number of rows in your csv file\n",
    "with open('event_datafile_new.csv', 'r', encoding = 'utf8') as f:\n",
    "    print(sum(1 for line in f))"
   ]
  },
  {
   "cell_type": "markdown",
   "metadata": {},
   "source": [
    "# Part II. Complete the Apache Cassandra coding portion of your project. \n",
    "\n",
    "## Now you are ready to work with the CSV file titled <font color=red>event_datafile_new.csv</font>, located within the Workspace directory.  The event_datafile_new.csv contains the following columns: \n",
    "- artist \n",
    "- firstName of user\n",
    "- gender of user\n",
    "- item number in session\n",
    "- last name of user\n",
    "- length of the song\n",
    "- level (paid or free song)\n",
    "- location of the user\n",
    "- sessionId\n",
    "- song title\n",
    "- userId\n",
    "\n",
    "The image below is a screenshot of what the denormalized data should appear like in the <font color=red>**event_datafile_new.csv**</font> after the code above is run:<br>\n",
    "\n",
    "<img src=\"images/image_event_datafile_new.jpg\">"
   ]
  },
  {
   "cell_type": "markdown",
   "metadata": {},
   "source": [
    "## Begin writing your Apache Cassandra code in the cells below"
   ]
  },
  {
   "cell_type": "markdown",
   "metadata": {},
   "source": [
    "#### Creating a Cluster"
   ]
  },
  {
   "cell_type": "code",
   "execution_count": 41,
   "metadata": {
    "collapsed": true
   },
   "outputs": [],
   "source": [
    "# This should make a connection to a Cassandra instance your local machine \n",
    "# (127.0.0.1)\n",
    "\n",
    "from cassandra.cluster import Cluster\n",
    "cluster = Cluster()\n",
    "\n",
    "# To establish connection and begin executing queries, need a session\n",
    "session = cluster.connect()"
   ]
  },
  {
   "cell_type": "markdown",
   "metadata": {},
   "source": [
    "#### Create Keyspace"
   ]
  },
  {
   "cell_type": "code",
   "execution_count": 42,
   "metadata": {
    "collapsed": false
   },
   "outputs": [
    {
     "name": "stdout",
     "output_type": "stream",
     "text": [
      "Keyspace 'sparkify_analytics' is created!\n"
     ]
    }
   ],
   "source": [
    "# TO-DO: Create a Keyspace \n",
    "query = \"\"\"\n",
    "        CREATE KEYSPACE IF NOT EXISTS sparkify_analytics\n",
    "        WITH REPLICATION = {'class': 'SimpleStrategy', 'replication_factor': 1}\n",
    "        \"\"\"\n",
    "try:\n",
    "    session.execute(query)\n",
    "    print(\"Keyspace 'sparkify_analytics' is created!\")\n",
    "except Exception as e:\n",
    "    print(\"Create keyspace encountered exception:\")\n",
    "    print(e)"
   ]
  },
  {
   "cell_type": "markdown",
   "metadata": {},
   "source": [
    "#### Set Keyspace"
   ]
  },
  {
   "cell_type": "code",
   "execution_count": 43,
   "metadata": {
    "collapsed": false
   },
   "outputs": [
    {
     "name": "stdout",
     "output_type": "stream",
     "text": [
      "Keyspace is set to 'sparkify_analytics'.\n"
     ]
    }
   ],
   "source": [
    "# TO-DO: Set KEYSPACE to the keyspace specified above\n",
    "try:\n",
    "    session.set_keyspace(\"sparkify_analytics\")\n",
    "    print(\"Keyspace is set to 'sparkify_analytics'.\")\n",
    "except Exception as e:\n",
    "    print(\"Exception encountered while setting keyspace:\")\n",
    "    print(e)"
   ]
  },
  {
   "cell_type": "markdown",
   "metadata": {},
   "source": [
    "### Now we need to create tables to run the following queries. Remember, with Apache Cassandra you model the database tables on the queries you want to run."
   ]
  },
  {
   "cell_type": "markdown",
   "metadata": {},
   "source": [
    "## Create queries to ask the following three questions of the data\n",
    "\n",
    "### 1. Give me the artist, song title and song's length in the music app history that was heard during  sessionId = 338, and itemInSession  = 4\n",
    "\n",
    "\n",
    "### 2. Give me only the following: name of artist, song (sorted by itemInSession) and user (first and last name) for userid = 10, sessionid = 182\n",
    "    \n",
    "\n",
    "### 3. Give me every user name (first and last) in my music app history who listened to the song 'All Hands Against His Own'\n",
    "\n",
    "\n"
   ]
  },
  {
   "cell_type": "code",
   "execution_count": 44,
   "metadata": {
    "collapsed": false
   },
   "outputs": [
    {
     "name": "stdout",
     "output_type": "stream",
     "text": [
      "'song_plays_by_session' table is created.\n"
     ]
    }
   ],
   "source": [
    "## TO-DO: Query 1:  Give me the artist, song title and song's length in the music app history that was heard during \\\n",
    "## sessionId = 338, and itemInSession = 4\n",
    "query1 = \"\"\"\n",
    "         CREATE TABLE IF NOT EXISTS song_plays_by_session\n",
    "         (sessionId INT, itemInSession INT,artist TEXT, song TEXT, length DECIMAL, PRIMARY KEY(sessionId, itemInSession))\n",
    "         \"\"\"\n",
    "\n",
    "try:\n",
    "    session.execute(query1)\n",
    "    print(\"'song_plays_by_session' table is created.\")\n",
    "except Exception as e:\n",
    "    print(\"Exception encountered while creating 'song_plays_by_session' table:\")\n",
    "    print(e)\n",
    "                    "
   ]
  },
  {
   "cell_type": "code",
   "execution_count": 45,
   "metadata": {
    "collapsed": false,
    "scrolled": false
   },
   "outputs": [
    {
     "name": "stdout",
     "output_type": "stream",
     "text": [
      "Insert statement into 'song_plays_by_session' is completed!\n"
     ]
    }
   ],
   "source": [
    "# We have provided part of the code to set up the CSV file. Please complete the Apache Cassandra code below#\n",
    "file = 'event_datafile_new.csv'\n",
    "\n",
    "with open(file, encoding = 'utf8') as f:\n",
    "    #csvreader = csv.reader(f)\n",
    "    csvreader = csv.DictReader(f)\n",
    "    \n",
    "    #next(csvreader) # skip header\n",
    "    \n",
    "    for line in csvreader:\n",
    "        ## TO-DO: Assign the INSERT statements into the `query` variable\n",
    "        query = \"INSERT INTO song_plays_by_session (sessionId, itemInSession, artist, song, length)\"\n",
    "        query = query + \"VALUES(%s, %s, %s, %s, %s)\"\n",
    "        ## TO-DO: Assign which column element should be assigned for each column in the INSERT statement.\n",
    "        ## For e.g., to INSERT artist_name and user first_name, you would change the code below to `line[0], line[1]`\n",
    "        #session.execute(query, (line[8], line[#]))\n",
    "        session.execute(query, (int(line['sessionId']), int(line['itemInSession']), line['artist'], line['song'], float(line['length'])))\n",
    "\n",
    "print(\"Insert statement into 'song_plays_by_session' is completed!\")"
   ]
  },
  {
   "cell_type": "markdown",
   "metadata": {},
   "source": [
    "#### Do a SELECT to verify that the data have been inserted into each table"
   ]
  },
  {
   "cell_type": "code",
   "execution_count": 46,
   "metadata": {
    "collapsed": false,
    "scrolled": true
   },
   "outputs": [
    {
     "name": "stdout",
     "output_type": "stream",
     "text": [
      "Row(sessionid=139, iteminsession=1, artist=\"Des'ree\", length=Decimal('246.30812'), song='You Gotta Be')\n"
     ]
    }
   ],
   "source": [
    "## TO-DO: Add in the SELECT statement to verify the data was entered into the table\n",
    "query = \"SELECT * FROM song_plays_by_session WHERE sessionId = 139 AND itemInSession = 1\"\n",
    "try:\n",
    "    rows = session.execute(query)\n",
    "    for row in rows:\n",
    "        print(row)\n",
    "except Exception as e:\n",
    "    print(e)"
   ]
  },
  {
   "cell_type": "markdown",
   "metadata": {},
   "source": [
    "### COPY AND REPEAT THE ABOVE THREE CELLS FOR EACH OF THE THREE QUESTIONS"
   ]
  },
  {
   "cell_type": "code",
   "execution_count": 47,
   "metadata": {
    "collapsed": false
   },
   "outputs": [
    {
     "name": "stdout",
     "output_type": "stream",
     "text": [
      "'song_plays_by_user' table is created.\n"
     ]
    }
   ],
   "source": [
    "## TO-DO: Query 2: Give me only the following: name of artist, song (sorted by itemInSession) and user (first and last name)\\\n",
    "## for userid = 10, sessionid = 182\n",
    "query2 = \"\"\"\n",
    "         CREATE TABLE IF NOT EXISTS song_plays_by_user\n",
    "         (userId INT, sessionId INT, itemInSession INT,artist TEXT, song TEXT, firstName TEXT, lastName TEXT, \n",
    "          PRIMARY KEY((userId, sessionId),itemInSession)\n",
    "         )\n",
    "         \"\"\"\n",
    "\n",
    "try:\n",
    "    session.execute(query2)\n",
    "    print(\"'song_plays_by_user' table is created.\")\n",
    "except Exception as e:\n",
    "    print(\"Exception encountered while creating 'song_plays_by_user' table:\")\n",
    "    print(e)\n",
    "\n",
    "                    "
   ]
  },
  {
   "cell_type": "code",
   "execution_count": 48,
   "metadata": {
    "collapsed": false
   },
   "outputs": [
    {
     "name": "stdout",
     "output_type": "stream",
     "text": [
      "Insert statement into 'song_plays_by_user' is completed!\n"
     ]
    }
   ],
   "source": [
    "file = 'event_datafile_new.csv'\n",
    "with open(file, encoding = 'utf8') as f:\n",
    "    #csvreader = csv.reader(f)\n",
    "    csvreader = csv.DictReader(f)\n",
    "    \n",
    "    #next(csvreader) # skip header\n",
    "    \n",
    "    for line in csvreader:\n",
    "        ## TO-DO: Assign the INSERT statements into the `query` variable\n",
    "        query = \"INSERT INTO song_plays_by_user (userId, sessionId, itemInSession, artist, song, firstName, lastName)\"\n",
    "        query = query + \"VALUES(%s, %s, %s, %s, %s,%s, %s)\"\n",
    "        ## TO-DO: Assign which column element should be assigned for each column in the INSERT statement.\n",
    "        ## For e.g., to INSERT artist_name and user first_name, you would change the code below to `line[0], line[1]`\n",
    "        #session.execute(query, (line[8], line[#]))\n",
    "        session.execute(query, (int(line['userId']),int(line['sessionId']), int(line['itemInSession']), line['artist'], line['song'], line['firstName'],line['lastName']))\n",
    "\n",
    "print(\"Insert statement into 'song_plays_by_user' is completed!\")"
   ]
  },
  {
   "cell_type": "code",
   "execution_count": 49,
   "metadata": {
    "collapsed": false
   },
   "outputs": [
    {
     "name": "stdout",
     "output_type": "stream",
     "text": [
      "Row(iteminsession=1, artist=\"Des'ree\", song='You Gotta Be', firstname='Kaylee', lastname='Summers')\n",
      "Row(iteminsession=3, artist='Mr Oizo', song='Flat 55', firstname='Kaylee', lastname='Summers')\n",
      "Row(iteminsession=4, artist='Tamba Trio', song='Quem Quiser Encontrar O Amor', firstname='Kaylee', lastname='Summers')\n",
      "Row(iteminsession=5, artist='The Mars Volta', song='Eriatarka', firstname='Kaylee', lastname='Summers')\n",
      "Row(iteminsession=6, artist='Infected Mushroom', song='Becoming Insane', firstname='Kaylee', lastname='Summers')\n",
      "Row(iteminsession=7, artist='Blue October / Imogen Heap', song='Congratulations', firstname='Kaylee', lastname='Summers')\n",
      "Row(iteminsession=8, artist='Girl Talk', song='Once again', firstname='Kaylee', lastname='Summers')\n"
     ]
    }
   ],
   "source": [
    "query = \"SELECT itemInSession, artist, song, firstname , lastname  FROM song_plays_by_user WHERE userId = 8 AND sessionId = 139\";\n",
    "try:\n",
    "    rows = session.execute(query)\n",
    "    for row in rows:\n",
    "        print(row)\n",
    "except Exception as e:\n",
    "    print(e)"
   ]
  },
  {
   "cell_type": "code",
   "execution_count": 50,
   "metadata": {
    "collapsed": false
   },
   "outputs": [
    {
     "name": "stdout",
     "output_type": "stream",
     "text": [
      "'users_by_song' table is created.\n"
     ]
    }
   ],
   "source": [
    "## TO-DO: Query 3: Give me every user name (first and last) in my music app history who listened to the song 'All Hands Against His Own'\n",
    "query3 = \"\"\"\n",
    "         CREATE TABLE IF NOT EXISTS users_by_song\n",
    "         (userId INT, song TEXT, firstName TEXT, lastName TEXT, \n",
    "          PRIMARY KEY(song, userId)\n",
    "         )\n",
    "         \"\"\"\n",
    "\n",
    "try:\n",
    "    session.execute(query3)\n",
    "    print(\"'users_by_song' table is created.\")\n",
    "except Exception as e:\n",
    "    print(\"Exception encountered while creating 'users_by_song' table:\")\n",
    "    print(e)\n",
    "\n",
    "                    "
   ]
  },
  {
   "cell_type": "code",
   "execution_count": 52,
   "metadata": {
    "collapsed": false
   },
   "outputs": [
    {
     "name": "stdout",
     "output_type": "stream",
     "text": [
      "Insert statement into 'users_by_song' is completed!\n"
     ]
    }
   ],
   "source": [
    "file = 'event_datafile_new.csv'\n",
    "with open(file, encoding = 'utf8') as f:\n",
    "    #csvreader = csv.reader(f)\n",
    "    csvreader = csv.DictReader(f)\n",
    "    \n",
    "    #next(csvreader) # skip header\n",
    "    \n",
    "    for line in csvreader:\n",
    "        ## TO-DO: Assign the INSERT statements into the `query` variable\n",
    "        query = \"INSERT INTO users_by_song (userId, song, firstName, lastName)\"\n",
    "        query = query + \"VALUES(%s, %s, %s, %s)\"\n",
    "        ## TO-DO: Assign which column element should be assigned for each column in the INSERT statement.\n",
    "        ## For e.g., to INSERT artist_name and user first_name, you would change the code below to `line[0], line[1]`\n",
    "        #session.execute(query, (line[8], line[#]))\n",
    "        session.execute(query, (int(line['userId']), line['song'], line['firstName'],line['lastName']))\n",
    "\n",
    "print(\"Insert statement into 'users_by_song' is completed!\")"
   ]
  },
  {
   "cell_type": "code",
   "execution_count": 53,
   "metadata": {
    "collapsed": false
   },
   "outputs": [
    {
     "name": "stdout",
     "output_type": "stream",
     "text": [
      "Row(firstname='Jacqueline', lastname='Lynch')\n",
      "Row(firstname='Tegan', lastname='Levine')\n",
      "Row(firstname='Sara', lastname='Johnson')\n"
     ]
    }
   ],
   "source": [
    "query = \"SELECT firstname , lastname  FROM users_by_song WHERE song='All Hands Against His Own'\";\n",
    "try:\n",
    "    rows = session.execute(query)\n",
    "    for row in rows:\n",
    "        print(row)\n",
    "except Exception as e:\n",
    "    print(e)"
   ]
  },
  {
   "cell_type": "markdown",
   "metadata": {},
   "source": [
    "### Drop the tables before closing out the sessions"
   ]
  },
  {
   "cell_type": "code",
   "execution_count": 54,
   "metadata": {
    "collapsed": false
   },
   "outputs": [
    {
     "name": "stdout",
     "output_type": "stream",
     "text": [
      "Executed: DROP TABLE IF EXISTS song_plays_by_session\n",
      "Executed: DROP TABLE IF EXISTS song_plays_by_user\n",
      "Executed: DROP TABLE IF EXISTS users_by_song\n",
      "Drop table completed!\n"
     ]
    }
   ],
   "source": [
    "## TO-DO: Drop the table before closing out the sessions\n",
    "drop_table_queries = [\"DROP TABLE IF EXISTS song_plays_by_session\", \n",
    "                      \"DROP TABLE IF EXISTS song_plays_by_user\",\n",
    "                      \"DROP TABLE IF EXISTS users_by_song\"];\n",
    "\n",
    "for query in drop_table_queries:\n",
    "    session.execute(query)\n",
    "    print(\"Executed: \" + query)\n",
    "    \n",
    "print(\"Drop table completed!\")"
   ]
  },
  {
   "cell_type": "markdown",
   "metadata": {},
   "source": [
    "### Close the session and cluster connection¶"
   ]
  },
  {
   "cell_type": "code",
   "execution_count": 55,
   "metadata": {
    "collapsed": true
   },
   "outputs": [],
   "source": [
    "session.shutdown()\n",
    "cluster.shutdown()"
   ]
  }
 ],
 "metadata": {
  "kernelspec": {
   "display_name": "Python 3",
   "language": "python",
   "name": "python3"
  },
  "language_info": {
   "codemirror_mode": {
    "name": "ipython",
    "version": 3
   },
   "file_extension": ".py",
   "mimetype": "text/x-python",
   "name": "python",
   "nbconvert_exporter": "python",
   "pygments_lexer": "ipython3",
   "version": "3.6.0"
  }
 },
 "nbformat": 4,
 "nbformat_minor": 2
}
