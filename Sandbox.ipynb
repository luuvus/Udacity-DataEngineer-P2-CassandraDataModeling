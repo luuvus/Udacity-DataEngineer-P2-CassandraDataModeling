{
 "cells": [
  {
   "cell_type": "code",
   "execution_count": 7,
   "metadata": {
    "collapsed": true
   },
   "outputs": [],
   "source": [
    "\n",
    "import cassandra\n",
    "from cassandra.cluster import Cluster"
   ]
  },
  {
   "cell_type": "markdown",
   "metadata": {},
   "source": [
    "### Database Functions"
   ]
  },
  {
   "cell_type": "code",
   "execution_count": 32,
   "metadata": {
    "collapsed": false
   },
   "outputs": [],
   "source": [
    "def connect_db(keyspace = None):\n",
    "    \n",
    "    try:\n",
    "        cluster = Cluster(['localhost'])\n",
    "        session = cluster.connect()\n",
    "        #print('Database connection: OK!')\n",
    "        if keyspace != None:\n",
    "            session.set_keyspace(keyspace)\n",
    "        return cluster, session\n",
    "    except Exception as e:\n",
    "        #print(\"Exception:\\n\" + str(e))\n",
    "        return e\n",
    "    \n",
    "def close_db(cluster, session):\n",
    "    try:\n",
    "        session.shutdown()\n",
    "        cluster.shutdown()\n",
    "        return True, \"\"\n",
    "    except Exception as e:\n",
    "        return False, \"Error - \" + str(e)\n",
    "    "
   ]
  },
  {
   "cell_type": "markdown",
   "metadata": {},
   "source": [
    "### Connect to database"
   ]
  },
  {
   "cell_type": "code",
   "execution_count": 33,
   "metadata": {
    "collapsed": false
   },
   "outputs": [
    {
     "name": "stdout",
     "output_type": "stream",
     "text": [
      "Database connection: OK!\n"
     ]
    }
   ],
   "source": [
    "db_result = connect_db(\"udacity\")\n",
    "cluster = None\n",
    "session = None\n",
    "try:\n",
    "    if(len(db_result)):\n",
    "        cluster, session = db_result\n",
    "        print('Database connection: OK!')\n",
    "except Exception as e:\n",
    "    print(\"connect_db() exception:\")\n",
    "    print(db_result)"
   ]
  },
  {
   "cell_type": "markdown",
   "metadata": {},
   "source": [
    "### Create keyspace/database"
   ]
  },
  {
   "cell_type": "code",
   "execution_count": 46,
   "metadata": {
    "collapsed": true
   },
   "outputs": [],
   "source": [
    "try:\n",
    "    session.execute(\"\"\"\n",
    "    CREATE KEYSPACE IF NOT EXISTS udacity \n",
    "    WITH REPLICATION = \n",
    "    { 'class' : 'SimpleStrategy', 'replication_factor' : 1 }\"\"\"\n",
    ")\n",
    "\n",
    "except Exception as e:\n",
    "    print(e)"
   ]
  },
  {
   "cell_type": "markdown",
   "metadata": {},
   "source": [
    "### Create tables"
   ]
  },
  {
   "cell_type": "code",
   "execution_count": 38,
   "metadata": {
    "collapsed": false
   },
   "outputs": [
    {
     "name": "stdout",
     "output_type": "stream",
     "text": [
      "'music_library' table is created.\n",
      "'artist_library' table is created.\n",
      "'alumn_library' table is create\n"
     ]
    }
   ],
   "source": [
    "query = \"\"\"\n",
    "        CREATE TABLE IF NOT EXISTS music_library\n",
    "        (year INT, artist_name TEXT, album_name TEXT, PRIMARY KEY(year, artist_name))\n",
    "        \"\"\"\n",
    "try:\n",
    "    session.execute(query)\n",
    "    print(\"'music_library' table is created.\")\n",
    "except Exception as e:\n",
    "    print(e)\n",
    "    \n",
    "query1 = \"\"\"\n",
    "         CREATE TABLE IF NOT EXISTS artist_library\n",
    "         (artist_name TEXT, album_name TEXT, year INT, PRIMARY KEY(artist_name, album_name))\n",
    "         \"\"\"\n",
    "\n",
    "try:\n",
    "    session.execute(query1)\n",
    "    print(\"'artist_library' table is created.\")\n",
    "except Exception as e:\n",
    "    print(e)\n",
    "    \n",
    "query2 = \"\"\"\n",
    "         CREATE TABLE IF NOT EXISTS alumn_library\n",
    "         (album_name TEXT, artist_name TEXT, year INT, city TEXT, PRIMARY KEY(album_name, artist_name))\n",
    "         \"\"\"\n",
    "try:\n",
    "    session.execute(query2)\n",
    "    print(\"'alumn_library' table is create\")\n",
    "except Exception as e:\n",
    "    print(e)\n",
    "    "
   ]
  },
  {
   "cell_type": "markdown",
   "metadata": {},
   "source": [
    "### Insert data"
   ]
  },
  {
   "cell_type": "code",
   "execution_count": 43,
   "metadata": {
    "collapsed": false
   },
   "outputs": [],
   "source": [
    "query = \"\"\"\n",
    "        INSERT INTO music_library(year, artist_name, album_name)\n",
    "        VALUES(%s, %s, %s)\n",
    "        \"\"\"\n",
    "\n",
    "query1 = \"\"\"\n",
    "        INSERT INTO artist_library(artist_name, year, album_name)\n",
    "        VALUES(%s, %s, %s)\n",
    "         \"\"\"\n",
    "\n",
    "query2 = \"\"\"\n",
    "         INSERT INTO album_library(album_name, artist_name, year)\n",
    "         VALUES(%s, %s, %s)\n",
    "         \"\"\"\n",
    "\n",
    "try:\n",
    "    session.execute(query, (1970, \"The Beatles\", \"Let it Be\"))\n",
    "except Exception as e:\n",
    "    print(e)\n",
    "    \n",
    "try:\n",
    "    session.execute(query, (1965, \"The Beatles\", \"Rubber Soul\"))\n",
    "except Exception as e:\n",
    "    print(e)\n",
    "    \n",
    "try:\n",
    "    session.execute(query, (1965, \"The Who\", \"My Generation\"))\n",
    "except Exception as e:\n",
    "    print(e)\n",
    "\n",
    "try:\n",
    "    session.execute(query, (1966, \"The Monkees\", \"The Monkees\"))\n",
    "except Exception as e:\n",
    "    print(e)\n",
    "\n",
    "try:\n",
    "    session.execute(query, (1970, \"The Carpenters\", \"Close To You\"))\n",
    "except Exception as e:\n",
    "    print(e)\n",
    "    \n",
    "try:\n",
    "    session.execute(query1, (\"The Beatles\", 1970, \"Let it Be\"))\n",
    "except Exception as e:\n",
    "    print(e)\n",
    "    \n",
    "try:\n",
    "    session.execute(query1, (\"The Beatles\", 1965, \"Rubber Soul\"))\n",
    "except Exception as e:\n",
    "    print(e)\n",
    "    \n",
    "try:\n",
    "    session.execute(query1, (\"The Who\", 1965, \"My Generation\"))\n",
    "except Exception as e:\n",
    "    print(e)\n",
    "\n",
    "try:\n",
    "    session.execute(query1, (\"The Monkees\", 1966, \"The Monkees\"))\n",
    "except Exception as e:\n",
    "    print(e)\n",
    "\n",
    "try:\n",
    "    session.execute(query1, (\"The Carpenters\", 1970, \"Close To You\"))\n",
    "except Exception as e:\n",
    "    print(e)\n",
    "    \n",
    "try:\n",
    "    session.execute(query2, (\"Let it Be\", \"The Beatles\", 1970))\n",
    "except Exception as e:\n",
    "    print(e)\n",
    "    \n",
    "try:\n",
    "    session.execute(query2, (\"Rubber Soul\", \"The Beatles\", 1965))\n",
    "except Exception as e:\n",
    "    print(e)\n",
    "    \n",
    "try:\n",
    "    session.execute(query2, (\"My Generation\", \"The Who\", 1965))\n",
    "except Exception as e:\n",
    "    print(e)\n",
    "\n",
    "try:\n",
    "    session.execute(query2, (\"The Monkees\", \"The Monkees\", 1966))\n",
    "except Exception as e:\n",
    "    print(e)\n",
    "\n",
    "try:\n",
    "    session.execute(query2, (\"Close To You\", \"The Carpenters\", 1970))\n",
    "except Exception as e:\n",
    "    print(e)"
   ]
  },
  {
   "cell_type": "markdown",
   "metadata": {},
   "source": [
    "### Queries"
   ]
  },
  {
   "cell_type": "code",
   "execution_count": 45,
   "metadata": {
    "collapsed": false
   },
   "outputs": [
    {
     "name": "stdout",
     "output_type": "stream",
     "text": [
      "Row(year=1970, artist_name='The Beatles', album_name='Let it Be')\n",
      "Row(year=1970, artist_name='The Carpenters', album_name='Close To You')\n"
     ]
    }
   ],
   "source": [
    "query = \"SELECT * FROM music_library WHERE year = 1970\"\n",
    "try:\n",
    "    rows = session.execute(query)\n",
    "except Exception as e:\n",
    "    print(e)\n",
    "    \n",
    "for row in rows:\n",
    "    print(row)"
   ]
  },
  {
   "cell_type": "markdown",
   "metadata": {},
   "source": [
    "### Close database"
   ]
  },
  {
   "cell_type": "code",
   "execution_count": 31,
   "metadata": {
    "collapsed": false
   },
   "outputs": [
    {
     "name": "stdout",
     "output_type": "stream",
     "text": [
      "Database closed!\n"
     ]
    }
   ],
   "source": [
    "is_db_closed, err_msg = close_db(cluster,session)\n",
    "if is_db_closed:\n",
    "    print(\"Database closed!\")\n",
    "else:\n",
    "    print(\"Unable to close database!\")\n",
    "    print(err_msg)"
   ]
  },
  {
   "cell_type": "code",
   "execution_count": null,
   "metadata": {
    "collapsed": true
   },
   "outputs": [],
   "source": []
  }
 ],
 "metadata": {
  "kernelspec": {
   "display_name": "Python 3",
   "language": "python",
   "name": "python3"
  },
  "language_info": {
   "codemirror_mode": {
    "name": "ipython",
    "version": 3
   },
   "file_extension": ".py",
   "mimetype": "text/x-python",
   "name": "python",
   "nbconvert_exporter": "python",
   "pygments_lexer": "ipython3",
   "version": "3.6.0"
  }
 },
 "nbformat": 4,
 "nbformat_minor": 2
}
